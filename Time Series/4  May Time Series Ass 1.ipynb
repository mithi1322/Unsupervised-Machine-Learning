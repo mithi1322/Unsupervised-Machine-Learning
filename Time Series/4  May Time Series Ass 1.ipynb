{
 "cells": [
  {
   "cell_type": "markdown",
   "id": "5b55b1bc-839a-43d0-8efc-23f832a0e0d5",
   "metadata": {},
   "source": [
    "Q1. What is a time series, and what are some common applications of time series analysis?\n",
    "\n",
    "Q2. What are some common time series patterns, and how can they be identified and interpreted?\n",
    "\n",
    "Q3. How can time series data be preprocessed before applying analysis techniques?\n",
    "\n",
    "Q4. How can time series forecasting be used in business decision-making, and what are some common challenges and limitations?\n",
    "\n",
    "Q5. What is ARIMA modelling, and how can it be used to forecast time series data?\n",
    "\n",
    "Q6. How do Autocorrelation Function (ACF) and Partial Autocorrelation Function (PACF) plots help in identifying the order of ARIMA models?\n",
    "\n",
    "Q7. What are the assumptions of ARIMA models, and how can they be tested for in practice?\n",
    "\n",
    "Q8. Suppose you have monthly sales data for a retail store for the past three years. Which type of time series model would you recommend for forecasting future sales, and why?\n",
    "\n",
    "Q9. What are some of the limitations of time series analysis? Provide an example of a scenario where the limitations of time series analysis may be particularly relevant.\n",
    "\n",
    "Q10. Explain the difference between a stationary and non-stationary time series. How does the stationarity of a time series affect the choice of forecasting model?"
   ]
  },
  {
   "cell_type": "markdown",
   "id": "a3230e87-119a-41d3-9d73-679507e21360",
   "metadata": {},
   "source": [
    "# Answer 1:\n",
    "\n",
    "Time Series: A time series is a series of data points collected, recorded, or measured at specific and equally spaced intervals over time. The time series data represents a sequence of observations which are indexed by time.\n",
    "\n",
    "Common Applications:\n",
    "\n",
    "1. Economics and Finance: Stock market analysis, economic forecasting, and financial modeling.\n",
    "\n",
    "2. Business and Sales Forecasting: Predicting sales, demand, inventory management, etc.\n",
    "\n",
    "3. Weather Forecasting: Climate modeling, meteorological analysis, and predictions.\n",
    "\n",
    "4. Healthcare and Medicine: Patient health monitoring, disease outbreaks, and drug effectiveness analysis.\n",
    "\n",
    "5. Engineering and Process Control: Quality control, signal processing, and maintenance scheduling."
   ]
  },
  {
   "cell_type": "markdown",
   "id": "b5e1c52f-7b47-42aa-bb5d-6df97e029a17",
   "metadata": {},
   "source": [
    "# Answer 2:\n",
    "\n",
    "Common Patterns:\n",
    "\n",
    "1. Trend: Long-term movement of data in a specific direction (upward or downward).\n",
    "\n",
    "2. Seasonality: Repeating patterns or fluctuations at regular intervals (daily, weekly, yearly).\n",
    "\n",
    "3. Cyclical: Patterns that occur at irregular intervals, often associated with economic or business cycles.\n",
    "\n",
    "4. Irregularity/Noise: Random variations or fluctuations not explained by other patterns.\n",
    "\n",
    "5. These patterns can be identified using visualizations (line plots, box plots, etc.) and statistical techniques (autocorrelation, decomposition)."
   ]
  },
  {
   "cell_type": "markdown",
   "id": "61f9443c-91e6-411d-95d5-afda0ae8e409",
   "metadata": {},
   "source": [
    "# Answer 3:\n",
    "Preprocessing Techniques:\n",
    "\n",
    "1. Handling Missing Values: Imputation or removal of missing values.\n",
    "\n",
    "2. Smoothing: Reducing noise through moving averages or other smoothing techniques.\n",
    "\n",
    "3. Detrending: Removing the trend component.\n",
    "\n",
    "4. Differencing: Removing seasonality or trends by differencing consecutive observations.\n",
    "\n",
    "5. Stationarity: Making data stationary by stabilizing mean and variance."
   ]
  },
  {
   "cell_type": "markdown",
   "id": "7799ab45-4267-48b8-a437-96f118a13f95",
   "metadata": {},
   "source": [
    "# Answer 4:\n",
    "\n",
    "Business Decision-making:\n",
    "\n",
    "1. Forecasting helps in demand planning, resource allocation, budgeting, and strategic decision-making.\n",
    "\n",
    "2. Facilitates inventory management, marketing strategy, and capacity planning.\n",
    "\n",
    "Challenges and Limitations:\n",
    "\n",
    "1. Forecasting uncertainty due to unexpected events.\n",
    "\n",
    "2. Data quality issues and changing trends.\n",
    "\n",
    "3. Difficulties in forecasting rare events or outliers.\n",
    "\n",
    "4. Over-reliance on historical patterns can limit accuracy."
   ]
  },
  {
   "cell_type": "markdown",
   "id": "082bf944-14b9-4818-9028-292a098e89ef",
   "metadata": {},
   "source": [
    "# Answer 5:\n",
    "ARIMA (Autoregressive Integrated Moving Average): A statistical model used for analyzing and forecasting time series data. It comprises three components—Auto-Regressive (AR), Integrated (I), Moving Average (MA).\n",
    "\n",
    "Usage: ARIMA models are used to capture temporal dependencies, seasonality, and trends in the data for accurate forecasting."
   ]
  },
  {
   "cell_type": "markdown",
   "id": "fec3ab40-b297-4d90-900e-9ce64abd0e22",
   "metadata": {},
   "source": [
    "# Answer 6:\n",
    "ACF: It measures the correlation between a series and a lagged version of itself. Peaks at certain lags can help identify seasonality.\n",
    "\n",
    "PACF: It measures the correlation between a series and a lagged version of itself but removes the effect of shorter lags. It helps in identifying the order of the AR component."
   ]
  },
  {
   "cell_type": "markdown",
   "id": "e518d227-2d9b-43bb-8e54-9548c8497373",
   "metadata": {},
   "source": [
    "# Answer 7:\n",
    "ARIMA Assumptions: Stationarity, linear relationships, normally distributed errors, constant variance of residuals, no autocorrelation of residuals.\n",
    "\n",
    "These assumptions are checked through visual inspection (plots) and statistical tests (ADF test for stationarity, residual analysis for normality, Ljung-Box test for autocorrelation)."
   ]
  },
  {
   "cell_type": "markdown",
   "id": "06e202a0-ad1f-4a3f-b5c4-a3f8cf644622",
   "metadata": {},
   "source": [
    "# Answer 8:\n",
    "An ARIMA model is suitable for sales forecasting as it captures the autocorrelation in the data and accommodates trends and seasonality commonly present in sales data."
   ]
  },
  {
   "cell_type": "markdown",
   "id": "44cc074a-8462-48af-bc86-3be9b2e3aa55",
   "metadata": {},
   "source": [
    "# Answer 9:\n",
    "\n",
    "Limitations: Inability to predict extreme events, vulnerability to shifts in underlying patterns due to unforeseen circumstances, overfitting.\n",
    "\n",
    "Example: In sales forecasting, a sudden economic crisis can significantly change consumer behavior and patterns, making past sales data less reliable for predicting future sales."
   ]
  },
  {
   "cell_type": "markdown",
   "id": "192f1e8d-7e01-4fff-92de-6f4dd9983b6a",
   "metadata": {},
   "source": [
    "# Answer 10:\n",
    "\n",
    "Stationary Time Series: Data where the mean, variance, and autocorrelation structure remain constant over time.\n",
    "\n",
    "Non-Stationary Time Series: Data that exhibits trends, seasonality, and changing variance over time.\n",
    "\n",
    "Impact on Forecasting Model: Stationarity affects the model's performance; for stationary data, models like ARIMA perform well, while non-stationary data may require differencing and transformation to make them suitable for modeling."
   ]
  },
  {
   "cell_type": "code",
   "execution_count": null,
   "id": "a71bc9bb-bc27-4cd1-a78e-d40994e9bc10",
   "metadata": {},
   "outputs": [],
   "source": []
  },
  {
   "cell_type": "code",
   "execution_count": null,
   "id": "d1859a3a-3cca-42f6-a0b3-2f21906d1045",
   "metadata": {},
   "outputs": [],
   "source": []
  }
 ],
 "metadata": {
  "kernelspec": {
   "display_name": "Python 3 (ipykernel)",
   "language": "python",
   "name": "python3"
  },
  "language_info": {
   "codemirror_mode": {
    "name": "ipython",
    "version": 3
   },
   "file_extension": ".py",
   "mimetype": "text/x-python",
   "name": "python",
   "nbconvert_exporter": "python",
   "pygments_lexer": "ipython3",
   "version": "3.10.8"
  }
 },
 "nbformat": 4,
 "nbformat_minor": 5
}
