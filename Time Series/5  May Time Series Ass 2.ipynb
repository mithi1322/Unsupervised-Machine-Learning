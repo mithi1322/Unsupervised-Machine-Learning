{
 "cells": [
  {
   "cell_type": "markdown",
   "id": "800d977e-e5e2-44ae-9fbc-d0beea11bf51",
   "metadata": {},
   "source": [
    "Q1. What is meant by time-dependent seasonal components?\n",
    "\n",
    "Q2. How can time-dependent seasonal components be identified in time series data?\n",
    "\n",
    "Q3. What are the factors that can influence time-dependent seasonal components?\n",
    "\n",
    "Q4. How are autoregression models used in time series analysis and forecasting?\n",
    "\n",
    "Q5. How do you use autoregression models to make predictions for future time points?\n",
    "\n",
    "Q6. What is a moving average (MA) model and how does it differ from other time series models?\n",
    "\n",
    "Q7. What is a mixed ARMA model and how does it differ from an AR or MA model?"
   ]
  },
  {
   "cell_type": "markdown",
   "id": "6a6821e2-5ee8-4a44-b1e1-fc4ce34b9284",
   "metadata": {},
   "source": [
    "# Answer 1:\n",
    "Time-dependent seasonal components:\n",
    "\n",
    "These are patterns or variations in a time series that occur at regular intervals, such as daily, weekly, monthly, or yearly. However, in time-dependent seasonal components, the seasonal behavior can change or evolve over time. For instance, seasonal patterns might exhibit variations that are not constant from year to year.\n"
   ]
  },
  {
   "cell_type": "markdown",
   "id": "0b157b23-a6d6-4c29-a1d2-dba011a45414",
   "metadata": {},
   "source": [
    "# Answer 2:\n",
    "Identification of time-dependent seasonal components:\n",
    "\n",
    "Time-dependent seasonal components can be identified by observing recurring patterns over multiple cycles of the time series. Analyzing the data for consistent fluctuations or trends at regular intervals can help in recognizing these time-dependent seasonal variations.\n"
   ]
  },
  {
   "cell_type": "markdown",
   "id": "a3b114ff-7569-41ec-9d3e-1cf2d77b9603",
   "metadata": {},
   "source": [
    "# Answer 3:\n",
    "Factors influencing time-dependent seasonal components:\n",
    "\n",
    "Various factors can influence the time-dependent seasonal components, such as economic conditions, changes in consumer behavior, weather, regulatory changes, and other external factors affecting the nature and duration of seasonal patterns.\n"
   ]
  },
  {
   "cell_type": "markdown",
   "id": "2b80ca24-a518-406f-bac9-73b9d872f334",
   "metadata": {},
   "source": [
    "# Answer 4:\n",
    "Autoregression models in time series analysis and forecasting:\n",
    "\n",
    "Autoregression (AR) models use the dependent relationship between an observation and some number of lagged observations. AR models assume that the value of the time series at a particular time is a linear combination of its previous values.\n"
   ]
  },
  {
   "cell_type": "markdown",
   "id": "117d5c72-de79-41a0-8cb1-c10c3d973d32",
   "metadata": {},
   "source": [
    "# Answer 5:\n",
    "Using autoregression models to make predictions for future time points:\n",
    "\n",
    "Autoregression models predict future values in a time series by regressing the current value on its previous values. The model uses the previous observed values as predictors to forecast the next point in the series.\n"
   ]
  },
  {
   "cell_type": "markdown",
   "id": "e8428b72-9e40-4751-a7b8-8f8d1aaca699",
   "metadata": {},
   "source": [
    "# Answer 6:\n",
    "Moving Average (MA) models and their difference from other time series models:\n",
    "\n",
    "Moving Average (MA) models model the time series based on the relationship between an observation and a residual error from a moving average process. They use the average of past observations to forecast the next observation. The key difference from other models is that MA models use past errors as a predictor.\n"
   ]
  },
  {
   "cell_type": "markdown",
   "id": "600711f6-0cf0-441c-b51e-6a5439e5e5b8",
   "metadata": {},
   "source": [
    "# Answer 7:\n",
    "Mixed ARMA models and their difference from AR or MA models:\n",
    "\n",
    "A mixed autoregressive moving average (ARMA) model combines autoregressive and moving average components. It includes both lagged values of the series and lagged forecast errors to predict future observations. AR models use lagged values, MA models use lagged errors, and ARMA models combine both these elements."
   ]
  },
  {
   "cell_type": "markdown",
   "id": "0980e0e1-d3d6-458c-ada0-a6fc870d4a54",
   "metadata": {},
   "source": []
  }
 ],
 "metadata": {
  "kernelspec": {
   "display_name": "Python 3 (ipykernel)",
   "language": "python",
   "name": "python3"
  },
  "language_info": {
   "codemirror_mode": {
    "name": "ipython",
    "version": 3
   },
   "file_extension": ".py",
   "mimetype": "text/x-python",
   "name": "python",
   "nbconvert_exporter": "python",
   "pygments_lexer": "ipython3",
   "version": "3.10.8"
  }
 },
 "nbformat": 4,
 "nbformat_minor": 5
}
